{
 "cells": [
  {
   "cell_type": "code",
   "execution_count": 6,
   "id": "af394ab5-2597-4b22-940e-dc26d218146c",
   "metadata": {},
   "outputs": [
    {
     "data": {
      "application/vnd.jupyter.widget-view+json": {
       "model_id": "b033acc58e82449a903e4850cea6e343",
       "version_major": 2,
       "version_minor": 0
      },
      "text/plain": [
       "interactive(children=(IntSlider(value=10, description='Total particles (N):', min=2), Output()), _dom_classes=…"
      ]
     },
     "execution_count": 6,
     "metadata": {},
     "output_type": "execute_result"
    }
   ],
   "source": [
    "import numpy as np\n",
    "import matplotlib.pyplot as plt\n",
    "from scipy.special import comb\n",
    "import ipywidgets as widgets\n",
    "from IPython.display import display\n",
    "\n",
    "# Function to calculate multiplicity (number of microstates)\n",
    "def multiplicity(N, n1):\n",
    "    \"\"\"Calculates the multiplicity Omega(N, n1) = C(N, n1) = N! / (n1! (N - n1)!)\"\"\"\n",
    "    return comb(N, n1)\n",
    "\n",
    "# Function to update the plot\n",
    "def update_plot(N):\n",
    "    \"\"\"Updates the plot based on the current value of N\"\"\"\n",
    "    n1_values = np.arange(0, N+1)\n",
    "    omega_values = multiplicity(N, n1_values)\n",
    "    \n",
    "    plt.figure(figsize=(8, 6))\n",
    "    plt.plot(n1_values, omega_values, marker='o', linestyle='-', color='b')\n",
    "    plt.title(f\"Multiplicity Distribution for N = {N}\")\n",
    "    plt.xlabel(\"Number of particles in the first state (n1)\")\n",
    "    plt.ylabel(\"Multiplicity (Omega)\")\n",
    "    # plt.yscale('log')  # Log scale to emphasize differences in multiplicity\n",
    "    plt.grid(True)\n",
    "    plt.show()\n",
    "\n",
    "# Interactive slider for N\n",
    "N_slider = widgets.IntSlider(value=10, min=2, max=100, step=1, description=\"Total particles (N):\")\n",
    "\n",
    "# Set up the interactive plot\n",
    "widgets.interactive(update_plot, N=N_slider)"
   ]
  }
 ],
 "metadata": {
  "kernelspec": {
   "display_name": "Python 3 (ipykernel)",
   "language": "python",
   "name": "python3"
  },
  "language_info": {
   "codemirror_mode": {
    "name": "ipython",
    "version": 3
   },
   "file_extension": ".py",
   "mimetype": "text/x-python",
   "name": "python",
   "nbconvert_exporter": "python",
   "pygments_lexer": "ipython3",
   "version": "3.11.10"
  }
 },
 "nbformat": 4,
 "nbformat_minor": 5
}
