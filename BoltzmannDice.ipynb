{
 "cells": [
  {
   "cell_type": "code",
   "execution_count": 23,
   "id": "8c2b9eca-8086-48e6-9436-d88c21cd8d7f",
   "metadata": {},
   "outputs": [],
   "source": [
    "import numpy as np\n",
    "from scipy.optimize import newton\n",
    "import matplotlib.pyplot as plt\n",
    "import ipywidgets as widgets\n",
    "from IPython.display import display\n",
    "from matplotlib.widgets import Slider\n",
    "\n",
    "# Define the function that calculates the expected value for a given β\n",
    "def expected_value(beta, A, c):\n",
    "    \"\"\"\n",
    "    Function to calculate the difference between the expected value of A (with the given beta)\n",
    "    and the target value c.\n",
    "    \"\"\"\n",
    "    exp_values = np.exp(-beta * A)\n",
    "    weighted_sum = np.sum(A * exp_values)\n",
    "    partition_function = np.sum(exp_values)\n",
    "    return (weighted_sum / partition_function) - c\n",
    "\n",
    "# Derivative of the expected value function w.r.t. β (needed for Newton-Raphson)\n",
    "def derivative(beta, A, c):\n",
    "    \"\"\"\n",
    "    Function to calculate the derivative of the expected value with respect to beta.\n",
    "    \"\"\"\n",
    "    exp_values = np.exp(-beta * A)\n",
    "    weighted_sum = np.sum(A * exp_values)\n",
    "    partition_function = np.sum(exp_values)\n",
    "    weighted_sum_squared = np.sum(A**2 * exp_values)\n",
    "\n",
    "    # Derivative of the expected value function\n",
    "    return -(weighted_sum_squared / partition_function) + (weighted_sum / partition_function)**2\n",
    "\n",
    "def boltzman_numerator(beta, A):\n",
    "    return np.exp(-beta * A)\n",
    "\n",
    "def boltzmann_denominator(beta, A):\n",
    "    return sum(map(lambda x: boltzman_numerator(beta, x), A))\n",
    "\n",
    "def boltzmann(A, expected_A):\n",
    "    # Initial guess for β\n",
    "    beta_initial_guess = 0.1\n",
    "\n",
    "    # Use Newton's method to find the value of β\n",
    "    beta = newton(expected_value, beta_initial_guess, fprime=derivative, args=(A, expected_A))\n",
    "    print(beta)\n",
    "    denom = boltzmann_denominator(beta, A)\n",
    "    return list(map(lambda Ai: boltzman_numerator(beta, Ai)/denom, A))\n"
   ]
  },
  {
   "cell_type": "code",
   "execution_count": 24,
   "id": "275e69b5-6dcd-4b88-89a9-08e9f09f321d",
   "metadata": {},
   "outputs": [
    {
     "data": {
      "application/vnd.jupyter.widget-view+json": {
       "model_id": "f39fd702275c42aba91dee4565b2c4b6",
       "version_major": 2,
       "version_minor": 0
      },
      "text/plain": [
       "interactive(children=(FloatSlider(value=3.5, description='Expected', max=5.99, min=1.01, step=0.01), Output())…"
      ]
     },
     "metadata": {},
     "output_type": "display_data"
    },
    {
     "data": {
      "text/plain": [
       "<function __main__.<lambda>(expectedA)>"
      ]
     },
     "execution_count": 24,
     "metadata": {},
     "output_type": "execute_result"
    }
   ],
   "source": [
    "def update_plot(A, expectedA):\n",
    "    data = boltzmann(np.array(A), expectedA)\n",
    "    x = np.arange(1, len(data) + 1)\n",
    "    \n",
    "    plt.figure()\n",
    "    plt.plot(x, data, marker='o')\n",
    "    plt.xlabel('i')\n",
    "    plt.ylabel('$P_i$')\n",
    "    plt.ylim(0, 1)\n",
    "    plt.show()\n",
    "\n",
    "# Slider widget for EXPECTED\n",
    "expected_slider = widgets.FloatSlider(value=3.5, min=1.01, max=5.99, step=0.01, description='Expected')\n",
    "\n",
    "# Connect the slider to the plot function\n",
    "widgets.interact(lambda expectedA: update_plot([1,2,3,4,5,6], expectedA), expectedA=expected_slider)"
   ]
  }
 ],
 "metadata": {
  "kernelspec": {
   "display_name": "Python 3 (ipykernel)",
   "language": "python",
   "name": "python3"
  },
  "language_info": {
   "codemirror_mode": {
    "name": "ipython",
    "version": 3
   },
   "file_extension": ".py",
   "mimetype": "text/x-python",
   "name": "python",
   "nbconvert_exporter": "python",
   "pygments_lexer": "ipython3",
   "version": "3.11.10"
  }
 },
 "nbformat": 4,
 "nbformat_minor": 5
}
